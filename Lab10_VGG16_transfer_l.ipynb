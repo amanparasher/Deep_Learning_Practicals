{
  "nbformat": 4,
  "nbformat_minor": 0,
  "metadata": {
    "colab": {
      "provenance": [],
      "gpuType": "T4"
    },
    "kernelspec": {
      "name": "python3",
      "display_name": "Python 3"
    },
    "language_info": {
      "name": "python"
    },
    "accelerator": "GPU",
    "widgets": {
      "application/vnd.jupyter.widget-state+json": {
        "3149f40c4ef349fcbc639a518c529855": {
          "model_module": "@jupyter-widgets/controls",
          "model_name": "HBoxModel",
          "model_module_version": "1.5.0",
          "state": {
            "_dom_classes": [],
            "_model_module": "@jupyter-widgets/controls",
            "_model_module_version": "1.5.0",
            "_model_name": "HBoxModel",
            "_view_count": null,
            "_view_module": "@jupyter-widgets/controls",
            "_view_module_version": "1.5.0",
            "_view_name": "HBoxView",
            "box_style": "",
            "children": [
              "IPY_MODEL_1fece395ba4747d094ff94edbdc41976",
              "IPY_MODEL_03b98cadb97a4ee58b8bf27b82f83063",
              "IPY_MODEL_87519d4dc25d49a69af1ac30ade2e406"
            ],
            "layout": "IPY_MODEL_67ff8dc3c5624840a780035e6f3fe79d"
          }
        },
        "1fece395ba4747d094ff94edbdc41976": {
          "model_module": "@jupyter-widgets/controls",
          "model_name": "HTMLModel",
          "model_module_version": "1.5.0",
          "state": {
            "_dom_classes": [],
            "_model_module": "@jupyter-widgets/controls",
            "_model_module_version": "1.5.0",
            "_model_name": "HTMLModel",
            "_view_count": null,
            "_view_module": "@jupyter-widgets/controls",
            "_view_module_version": "1.5.0",
            "_view_name": "HTMLView",
            "description": "",
            "description_tooltip": null,
            "layout": "IPY_MODEL_4152c590a0564446a9060ac8f6fa4de3",
            "placeholder": "​",
            "style": "IPY_MODEL_3d6e593d86f64a63ae3dcc36784df9b5",
            "value": "Dl Completed...: 100%"
          }
        },
        "03b98cadb97a4ee58b8bf27b82f83063": {
          "model_module": "@jupyter-widgets/controls",
          "model_name": "FloatProgressModel",
          "model_module_version": "1.5.0",
          "state": {
            "_dom_classes": [],
            "_model_module": "@jupyter-widgets/controls",
            "_model_module_version": "1.5.0",
            "_model_name": "FloatProgressModel",
            "_view_count": null,
            "_view_module": "@jupyter-widgets/controls",
            "_view_module_version": "1.5.0",
            "_view_name": "ProgressView",
            "bar_style": "success",
            "description": "",
            "description_tooltip": null,
            "layout": "IPY_MODEL_b861b6718db844a896c72011b114d001",
            "max": 5,
            "min": 0,
            "orientation": "horizontal",
            "style": "IPY_MODEL_5e201a2f34264437b94543b5c1cfe047",
            "value": 5
          }
        },
        "87519d4dc25d49a69af1ac30ade2e406": {
          "model_module": "@jupyter-widgets/controls",
          "model_name": "HTMLModel",
          "model_module_version": "1.5.0",
          "state": {
            "_dom_classes": [],
            "_model_module": "@jupyter-widgets/controls",
            "_model_module_version": "1.5.0",
            "_model_name": "HTMLModel",
            "_view_count": null,
            "_view_module": "@jupyter-widgets/controls",
            "_view_module_version": "1.5.0",
            "_view_name": "HTMLView",
            "description": "",
            "description_tooltip": null,
            "layout": "IPY_MODEL_891f1b05973a4c2ea040541aa1ec5a46",
            "placeholder": "​",
            "style": "IPY_MODEL_a394268f68f94a709d0aea7524c8dc0d",
            "value": " 5/5 [00:02&lt;00:00,  1.54 file/s]"
          }
        },
        "67ff8dc3c5624840a780035e6f3fe79d": {
          "model_module": "@jupyter-widgets/base",
          "model_name": "LayoutModel",
          "model_module_version": "1.2.0",
          "state": {
            "_model_module": "@jupyter-widgets/base",
            "_model_module_version": "1.2.0",
            "_model_name": "LayoutModel",
            "_view_count": null,
            "_view_module": "@jupyter-widgets/base",
            "_view_module_version": "1.2.0",
            "_view_name": "LayoutView",
            "align_content": null,
            "align_items": null,
            "align_self": null,
            "border": null,
            "bottom": null,
            "display": null,
            "flex": null,
            "flex_flow": null,
            "grid_area": null,
            "grid_auto_columns": null,
            "grid_auto_flow": null,
            "grid_auto_rows": null,
            "grid_column": null,
            "grid_gap": null,
            "grid_row": null,
            "grid_template_areas": null,
            "grid_template_columns": null,
            "grid_template_rows": null,
            "height": null,
            "justify_content": null,
            "justify_items": null,
            "left": null,
            "margin": null,
            "max_height": null,
            "max_width": null,
            "min_height": null,
            "min_width": null,
            "object_fit": null,
            "object_position": null,
            "order": null,
            "overflow": null,
            "overflow_x": null,
            "overflow_y": null,
            "padding": null,
            "right": null,
            "top": null,
            "visibility": null,
            "width": null
          }
        },
        "4152c590a0564446a9060ac8f6fa4de3": {
          "model_module": "@jupyter-widgets/base",
          "model_name": "LayoutModel",
          "model_module_version": "1.2.0",
          "state": {
            "_model_module": "@jupyter-widgets/base",
            "_model_module_version": "1.2.0",
            "_model_name": "LayoutModel",
            "_view_count": null,
            "_view_module": "@jupyter-widgets/base",
            "_view_module_version": "1.2.0",
            "_view_name": "LayoutView",
            "align_content": null,
            "align_items": null,
            "align_self": null,
            "border": null,
            "bottom": null,
            "display": null,
            "flex": null,
            "flex_flow": null,
            "grid_area": null,
            "grid_auto_columns": null,
            "grid_auto_flow": null,
            "grid_auto_rows": null,
            "grid_column": null,
            "grid_gap": null,
            "grid_row": null,
            "grid_template_areas": null,
            "grid_template_columns": null,
            "grid_template_rows": null,
            "height": null,
            "justify_content": null,
            "justify_items": null,
            "left": null,
            "margin": null,
            "max_height": null,
            "max_width": null,
            "min_height": null,
            "min_width": null,
            "object_fit": null,
            "object_position": null,
            "order": null,
            "overflow": null,
            "overflow_x": null,
            "overflow_y": null,
            "padding": null,
            "right": null,
            "top": null,
            "visibility": null,
            "width": null
          }
        },
        "3d6e593d86f64a63ae3dcc36784df9b5": {
          "model_module": "@jupyter-widgets/controls",
          "model_name": "DescriptionStyleModel",
          "model_module_version": "1.5.0",
          "state": {
            "_model_module": "@jupyter-widgets/controls",
            "_model_module_version": "1.5.0",
            "_model_name": "DescriptionStyleModel",
            "_view_count": null,
            "_view_module": "@jupyter-widgets/base",
            "_view_module_version": "1.2.0",
            "_view_name": "StyleView",
            "description_width": ""
          }
        },
        "b861b6718db844a896c72011b114d001": {
          "model_module": "@jupyter-widgets/base",
          "model_name": "LayoutModel",
          "model_module_version": "1.2.0",
          "state": {
            "_model_module": "@jupyter-widgets/base",
            "_model_module_version": "1.2.0",
            "_model_name": "LayoutModel",
            "_view_count": null,
            "_view_module": "@jupyter-widgets/base",
            "_view_module_version": "1.2.0",
            "_view_name": "LayoutView",
            "align_content": null,
            "align_items": null,
            "align_self": null,
            "border": null,
            "bottom": null,
            "display": null,
            "flex": null,
            "flex_flow": null,
            "grid_area": null,
            "grid_auto_columns": null,
            "grid_auto_flow": null,
            "grid_auto_rows": null,
            "grid_column": null,
            "grid_gap": null,
            "grid_row": null,
            "grid_template_areas": null,
            "grid_template_columns": null,
            "grid_template_rows": null,
            "height": null,
            "justify_content": null,
            "justify_items": null,
            "left": null,
            "margin": null,
            "max_height": null,
            "max_width": null,
            "min_height": null,
            "min_width": null,
            "object_fit": null,
            "object_position": null,
            "order": null,
            "overflow": null,
            "overflow_x": null,
            "overflow_y": null,
            "padding": null,
            "right": null,
            "top": null,
            "visibility": null,
            "width": null
          }
        },
        "5e201a2f34264437b94543b5c1cfe047": {
          "model_module": "@jupyter-widgets/controls",
          "model_name": "ProgressStyleModel",
          "model_module_version": "1.5.0",
          "state": {
            "_model_module": "@jupyter-widgets/controls",
            "_model_module_version": "1.5.0",
            "_model_name": "ProgressStyleModel",
            "_view_count": null,
            "_view_module": "@jupyter-widgets/base",
            "_view_module_version": "1.2.0",
            "_view_name": "StyleView",
            "bar_color": null,
            "description_width": ""
          }
        },
        "891f1b05973a4c2ea040541aa1ec5a46": {
          "model_module": "@jupyter-widgets/base",
          "model_name": "LayoutModel",
          "model_module_version": "1.2.0",
          "state": {
            "_model_module": "@jupyter-widgets/base",
            "_model_module_version": "1.2.0",
            "_model_name": "LayoutModel",
            "_view_count": null,
            "_view_module": "@jupyter-widgets/base",
            "_view_module_version": "1.2.0",
            "_view_name": "LayoutView",
            "align_content": null,
            "align_items": null,
            "align_self": null,
            "border": null,
            "bottom": null,
            "display": null,
            "flex": null,
            "flex_flow": null,
            "grid_area": null,
            "grid_auto_columns": null,
            "grid_auto_flow": null,
            "grid_auto_rows": null,
            "grid_column": null,
            "grid_gap": null,
            "grid_row": null,
            "grid_template_areas": null,
            "grid_template_columns": null,
            "grid_template_rows": null,
            "height": null,
            "justify_content": null,
            "justify_items": null,
            "left": null,
            "margin": null,
            "max_height": null,
            "max_width": null,
            "min_height": null,
            "min_width": null,
            "object_fit": null,
            "object_position": null,
            "order": null,
            "overflow": null,
            "overflow_x": null,
            "overflow_y": null,
            "padding": null,
            "right": null,
            "top": null,
            "visibility": null,
            "width": null
          }
        },
        "a394268f68f94a709d0aea7524c8dc0d": {
          "model_module": "@jupyter-widgets/controls",
          "model_name": "DescriptionStyleModel",
          "model_module_version": "1.5.0",
          "state": {
            "_model_module": "@jupyter-widgets/controls",
            "_model_module_version": "1.5.0",
            "_model_name": "DescriptionStyleModel",
            "_view_count": null,
            "_view_module": "@jupyter-widgets/base",
            "_view_module_version": "1.2.0",
            "_view_name": "StyleView",
            "description_width": ""
          }
        }
      }
    }
  },
  "cells": [
    {
      "cell_type": "code",
      "execution_count": null,
      "metadata": {
        "id": "qri8lCrgdxMr"
      },
      "outputs": [],
      "source": [
        "import tensorflow_datasets as tfds\n",
        "import tensorflow as tf\n",
        "from tensorflow.keras.utils import to_categorical"
      ]
    },
    {
      "cell_type": "code",
      "source": [
        "#Loading the dataset\n",
        "(train_ds , train_labels),(test_ds,test_labels) = tfds.load(\"tf_flowers\",\n",
        "                                                            split=[\"train[:70%]\",\"train[:30%]\"],\n",
        "                                                            batch_size=-1,\n",
        "                                                            as_supervised = True)\n",
        "\n",
        "#Resizing images\n",
        "train_ds = tf.image.resize(train_ds,(150,150))\n",
        "test_ds = tf.image.resize(test_ds,(150,150))\n",
        "\n",
        "#trainsforming the labels to correct format\n",
        "train_labels = to_categorical(train_labels, num_classes=5)\n",
        "test_labels = to_categorical(test_labels, num_classes=5)"
      ],
      "metadata": {
        "colab": {
          "base_uri": "https://localhost:8080/",
          "height": 85,
          "referenced_widgets": [
            "3149f40c4ef349fcbc639a518c529855",
            "1fece395ba4747d094ff94edbdc41976",
            "03b98cadb97a4ee58b8bf27b82f83063",
            "87519d4dc25d49a69af1ac30ade2e406",
            "67ff8dc3c5624840a780035e6f3fe79d",
            "4152c590a0564446a9060ac8f6fa4de3",
            "3d6e593d86f64a63ae3dcc36784df9b5",
            "b861b6718db844a896c72011b114d001",
            "5e201a2f34264437b94543b5c1cfe047",
            "891f1b05973a4c2ea040541aa1ec5a46",
            "a394268f68f94a709d0aea7524c8dc0d"
          ]
        },
        "id": "tuVkCV06eHE0",
        "outputId": "53ac8d4e-108d-4235-ec3e-8e932e464475"
      },
      "execution_count": null,
      "outputs": [
        {
          "output_type": "stream",
          "name": "stdout",
          "text": [
            "Downloading and preparing dataset 218.21 MiB (download: 218.21 MiB, generated: 221.83 MiB, total: 440.05 MiB) to /root/tensorflow_datasets/tf_flowers/3.0.1...\n"
          ]
        },
        {
          "output_type": "display_data",
          "data": {
            "text/plain": [
              "Dl Completed...:   0%|          | 0/5 [00:00<?, ? file/s]"
            ],
            "application/vnd.jupyter.widget-view+json": {
              "version_major": 2,
              "version_minor": 0,
              "model_id": "3149f40c4ef349fcbc639a518c529855"
            }
          },
          "metadata": {}
        },
        {
          "output_type": "stream",
          "name": "stdout",
          "text": [
            "Dataset tf_flowers downloaded and prepared to /root/tensorflow_datasets/tf_flowers/3.0.1. Subsequent calls will reuse this data.\n"
          ]
        }
      ]
    },
    {
      "cell_type": "code",
      "source": [
        "from tensorflow.keras.applications.vgg16 import VGG16\n",
        "from tensorflow.keras.applications.vgg16 import preprocess_input\n",
        "\n",
        "#loading VGG16 model\n",
        "vgg_model = VGG16(weights = \"imagenet\",\n",
        "              include_top = False,\n",
        "              input_shape = train_ds[0].shape)\n",
        "vgg_model.trainable = False\n",
        "\n",
        "train_ds = preprocess_input(train_ds)\n",
        "test_ds = preprocess_input(test_ds)\n"
      ],
      "metadata": {
        "colab": {
          "base_uri": "https://localhost:8080/"
        },
        "id": "Tib7NULQfTn9",
        "outputId": "0c693802-3acd-4bc4-e228-625435e64e70"
      },
      "execution_count": null,
      "outputs": [
        {
          "output_type": "stream",
          "name": "stdout",
          "text": [
            "Downloading data from https://storage.googleapis.com/tensorflow/keras-applications/vgg16/vgg16_weights_tf_dim_ordering_tf_kernels_notop.h5\n",
            "58889256/58889256 [==============================] - 0s 0us/step\n"
          ]
        }
      ]
    },
    {
      "cell_type": "code",
      "source": [
        "from tensorflow.keras import layers, models\n",
        "from tensorflow.keras.layers import Dense, Dropout, Flatten, Conv2D, MaxPooling2D\n",
        "\n",
        "Flatten_layer = layers.Flatten()\n",
        "dense_1 = layers.Dense(50, activation='relu')\n",
        "dense_2 = layers.Dense(20, activation='relu')\n",
        "pred_layer = layers.Dense(5, activation='softmax')\n",
        "\n",
        "model = models.Sequential([vgg_model,\n",
        "                           Flatten_layer,\n",
        "                           dense_1,\n",
        "                           dense_2,\n",
        "                           pred_layer])"
      ],
      "metadata": {
        "id": "jKx_2u1ogxbj"
      },
      "execution_count": null,
      "outputs": []
    },
    {
      "cell_type": "code",
      "source": [
        "from tensorflow.keras.callbacks import EarlyStopping\n",
        "\n",
        "model.compile(\n",
        "    optimizer='adam',\n",
        "    loss='categorical_crossentropy',\n",
        "    metrics=['accuracy'],\n",
        ")\n",
        "\n",
        "\n",
        "es = EarlyStopping(monitor='val_accuracy', mode='max',patience= 5,  restore_best_weights=True)\n",
        "\n",
        "history = model.fit(train_ds, train_labels, epochs=20, validation_split=0.2, batch_size=32, callbacks=[es])"
      ],
      "metadata": {
        "colab": {
          "base_uri": "https://localhost:8080/"
        },
        "id": "tf_Pj8Ndhq9n",
        "outputId": "dc2b0739-a8fc-47cf-e903-59b1c9398c28"
      },
      "execution_count": null,
      "outputs": [
        {
          "output_type": "stream",
          "name": "stdout",
          "text": [
            "Epoch 1/20\n",
            "65/65 [==============================] - 7s 93ms/step - loss: 0.1651 - accuracy: 0.9518 - val_loss: 2.3421 - val_accuracy: 0.6829\n",
            "Epoch 2/20\n",
            "65/65 [==============================] - 6s 91ms/step - loss: 0.0988 - accuracy: 0.9698 - val_loss: 2.6051 - val_accuracy: 0.6984\n",
            "Epoch 3/20\n",
            "65/65 [==============================] - 6s 88ms/step - loss: 0.0964 - accuracy: 0.9732 - val_loss: 2.2249 - val_accuracy: 0.7082\n",
            "Epoch 4/20\n",
            "65/65 [==============================] - 6s 89ms/step - loss: 0.0429 - accuracy: 0.9873 - val_loss: 2.2126 - val_accuracy: 0.7237\n",
            "Epoch 5/20\n",
            "65/65 [==============================] - 6s 87ms/step - loss: 0.0303 - accuracy: 0.9912 - val_loss: 2.2114 - val_accuracy: 0.7121\n",
            "Epoch 6/20\n",
            "65/65 [==============================] - 6s 90ms/step - loss: 0.0205 - accuracy: 0.9946 - val_loss: 2.1982 - val_accuracy: 0.7198\n",
            "Epoch 7/20\n",
            "65/65 [==============================] - 6s 89ms/step - loss: 0.0076 - accuracy: 0.9985 - val_loss: 2.2376 - val_accuracy: 0.7276\n",
            "Epoch 8/20\n",
            "65/65 [==============================] - 6s 86ms/step - loss: 0.0052 - accuracy: 0.9990 - val_loss: 2.3121 - val_accuracy: 0.7121\n",
            "Epoch 9/20\n",
            "65/65 [==============================] - 6s 89ms/step - loss: 0.0047 - accuracy: 0.9985 - val_loss: 2.3165 - val_accuracy: 0.7179\n",
            "Epoch 10/20\n",
            "65/65 [==============================] - 5s 85ms/step - loss: 0.0022 - accuracy: 0.9995 - val_loss: 2.3677 - val_accuracy: 0.7218\n",
            "Epoch 11/20\n",
            "65/65 [==============================] - 6s 86ms/step - loss: 0.0018 - accuracy: 0.9995 - val_loss: 2.3835 - val_accuracy: 0.7237\n",
            "Epoch 12/20\n",
            "65/65 [==============================] - 5s 85ms/step - loss: 0.0016 - accuracy: 0.9995 - val_loss: 2.4286 - val_accuracy: 0.7276\n"
          ]
        }
      ]
    },
    {
      "cell_type": "code",
      "source": [
        "# Plot the Loss\n",
        "import matplotlib.pyplot as plt\n",
        "plt.plot(history.history['loss'], label = 'train_loss')\n",
        "plt.plot(history.history['val_loss'], label ='val loss')\n",
        "plt.legend()\n",
        "plt.show()\n",
        "# plt.savefig('LossVal_loss')"
      ],
      "metadata": {
        "colab": {
          "base_uri": "https://localhost:8080/",
          "height": 430
        },
        "id": "y9fk52bBjDgi",
        "outputId": "239ba95b-644b-453f-f109-082514b1dbd7"
      },
      "execution_count": null,
      "outputs": [
        {
          "output_type": "display_data",
          "data": {
            "text/plain": [
              "<Figure size 640x480 with 1 Axes>"
            ],
            "image/png": "[encoded data removed]"
          },
          "metadata": {}
        }
      ]
    },
    {
      "cell_type": "code",
      "source": [
        "# Plot the Loss\n",
        "import matplotlib.pyplot as plt\n",
        "plt.plot(history.history['accuracy'], label = 'train_accuracy')\n",
        "plt.plot(history.history['val_accuracy'], label ='val accuracy')\n",
        "plt.legend()\n",
        "plt.show()\n",
        "# plt.savefig('accuracyVal_accuracy')"
      ],
      "metadata": {
        "colab": {
          "base_uri": "https://localhost:8080/",
          "height": 430
        },
        "id": "8z6NTp_jlLg_",
        "outputId": "36c4f8fb-3bad-4fb1-9354-158bef40336f"
      },
      "execution_count": null,
      "outputs": [
        {
          "output_type": "display_data",
          "data": {
            "text/plain": [
              "<Figure size 640x480 with 1 Axes>"
            ],
            "image/png": "[encoded data removed]"
          },
          "metadata": {}
        }
      ]
    },
    {
      "cell_type": "code",
      "source": [],
      "metadata": {
        "id": "saEriReAmr4h"
      },
      "execution_count": null,
      "outputs": []
    }
  ]
}