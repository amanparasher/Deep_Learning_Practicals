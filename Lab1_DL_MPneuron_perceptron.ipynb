{
  "nbformat": 4,
  "nbformat_minor": 0,
  "metadata": {
    "colab": {
      "provenance": []
    },
    "kernelspec": {
      "name": "python3",
      "display_name": "Python 3"
    },
    "language_info": {
      "name": "python"
    }
  },
  "cells": [
    {
      "cell_type": "markdown",
      "source": [
        "**LAB 1: MP Neuron and perceptron**\n",
        "\n"
      ],
      "metadata": {
        "id": "qAhJGcK6Sw-t"
      }
    },
    {
      "cell_type": "code",
      "source": [
        "# McCulloch-Pitts neuron using AND and OR gates\n",
        "\n",
        "class McN:\n",
        "    def __init__(self, weights, bias):\n",
        "        self.weights = weights\n",
        "        self.bias = bias\n",
        "\n",
        "    def and_gate(self, x1, x2):\n",
        "        return x1 and x2\n",
        "\n",
        "    def or_gate(self, x1, x2):\n",
        "        return x1 or x2\n",
        "\n",
        "    def calculate(self, inputs):\n",
        "        total_input = sum(x * w for x, w in zip(inputs, self.weights))\n",
        "        return int(total_input >= self.bias)\n",
        "\n",
        "# Create AND and OR gates\n",
        "and_get = McN(weights=[1, 1], bias=2)\n",
        "or_get = McN(weights=[1, 1], bias=1)\n",
        "\n",
        "# Test cases\n",
        "b = [(0, 0), (0, 1), (1, 0), (1, 1)]\n",
        "c = [(0, 0), (0, 1), (1, 0), (1, 1)]\n",
        "\n",
        "print(\"AND Gate:\")\n",
        "for x1, x2 in b:\n",
        "    output = and_get.calculate([x1, x2])\n",
        "    print(f\"{x1} AND {x2} = {output}\")\n",
        "\n",
        "print(\"\\nOR Gate:\")\n",
        "for x1, x2 in c:\n",
        "    output = or_get.calculate([x1, x2])\n",
        "    print(f\"{x1} OR {x2} = {output}\")\n"
      ],
      "metadata": {
        "id": "zY3MtJPQnxsk",
        "colab": {
          "base_uri": "https://localhost:8080/"
        },
        "outputId": "c242d9bc-4910-4290-f6f1-bf171b4c0d40"
      },
      "execution_count": null,
      "outputs": [
        {
          "output_type": "stream",
          "name": "stdout",
          "text": [
            "AND Gate:\n",
            "0 AND 0 = 0\n",
            "0 AND 1 = 0\n",
            "1 AND 0 = 0\n",
            "1 AND 1 = 1\n",
            "\n",
            "OR Gate:\n",
            "0 OR 0 = 0\n",
            "0 OR 1 = 1\n",
            "1 OR 0 = 1\n",
            "1 OR 1 = 1\n"
          ]
        }
      ]
    },
    {
      "cell_type": "code",
      "source": [
        "def perceptron(x,w,b):\n",
        "  weighted_sum = 0\n",
        "  for i in range(0,len(w)):\n",
        "    weighted_sum += w[i]*x[i]\n",
        "    weighted_sum += b\n",
        "  if weighted_sum > 0:\n",
        "    result = 1\n",
        "  else:\n",
        "    result = 0\n",
        "  return result"
      ],
      "metadata": {
        "id": "cIhsmeY4CKSo"
      },
      "execution_count": null,
      "outputs": []
    },
    {
      "cell_type": "code",
      "source": [
        "#Perceptron\n",
        "w2 = [1,1]\n",
        "b2 = -1\n",
        "for i in range(0,2):\n",
        "  for j in range(0,2):\n",
        "    x2 = [i,j]\n",
        "    result2 = perceptron(x2,w2,b2)\n",
        "    print(f\"perceptron when the inputs are {x2} is {result2}\")"
      ],
      "metadata": {
        "id": "yrpgXKz9KzUU",
        "colab": {
          "base_uri": "https://localhost:8080/"
        },
        "outputId": "db45ef21-1b73-42f9-d9c0-d56b8ae4670a"
      },
      "execution_count": null,
      "outputs": [
        {
          "output_type": "stream",
          "name": "stdout",
          "text": [
            "perceptron when the inputs are [0, 0] is 0\n",
            "perceptron when the inputs are [0, 1] is 0\n",
            "perceptron when the inputs are [1, 0] is 0\n",
            "perceptron when the inputs are [1, 1] is 0\n"
          ]
        }
      ]
    },
    {
      "cell_type": "code",
      "source": [],
      "metadata": {
        "id": "ktK42OwrK_xA"
      },
      "execution_count": null,
      "outputs": []
    }
  ]
}