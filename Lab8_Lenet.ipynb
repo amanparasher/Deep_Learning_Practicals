{
  "nbformat": 4,
  "nbformat_minor": 0,
  "metadata": {
    "colab": {
      "provenance": []
    },
    "kernelspec": {
      "name": "python3",
      "display_name": "Python 3"
    },
    "language_info": {
      "name": "python"
    }
  },
  "cells": [
    {
      "cell_type": "markdown",
      "source": [
        "# **LAB:8 Implement LeNet for image classification**"
      ],
      "metadata": {
        "id": "8-THly0jpASQ"
      }
    },
    {
      "cell_type": "code",
      "execution_count": null,
      "metadata": {
        "id": "hPx1GnSeA0Rs"
      },
      "outputs": [],
      "source": [
        "import keras\n",
        "from keras.datasets import mnist\n",
        "from keras.layers import Conv2D, MaxPooling2D\n",
        "from keras.layers import Dense, Flatten\n",
        "from keras.models import Sequential"
      ]
    },
    {
      "cell_type": "code",
      "source": [
        "# Loading the dataset and perform splitting\n",
        "(x_train, y_train), (x_test, y_test) = mnist.load_data()"
      ],
      "metadata": {
        "id": "_MNasBiN6lYY",
        "colab": {
          "base_uri": "https://localhost:8080/"
        },
        "outputId": "0ff106ce-e6e8-4c88-8c18-8e0f1a84d676"
      },
      "execution_count": null,
      "outputs": [
        {
          "output_type": "stream",
          "name": "stdout",
          "text": [
            "Downloading data from https://storage.googleapis.com/tensorflow/tf-keras-datasets/mnist.npz\n",
            "11490434/11490434 [==============================] - 1s 0us/step\n"
          ]
        }
      ]
    },
    {
      "cell_type": "code",
      "source": [
        "# Peforming reshaping operation\n",
        "x_train = x_train.reshape(x_train.shape[0], 28, 28, 1)\n",
        "x_test = x_test.reshape(x_test.shape[0], 28, 28, 1)\n",
        "\n",
        "# Normalization\n",
        "x_train = x_train / 255\n",
        "x_test = x_test / 255\n",
        "\n",
        "# One Hot Encoding\n",
        "y_train = keras.utils.to_categorical(y_train, 10)\n",
        "y_test = keras.utils.to_categorical(y_test, 10)"
      ],
      "metadata": {
        "id": "bRuisZBY6nZ4"
      },
      "execution_count": null,
      "outputs": []
    },
    {
      "cell_type": "code",
      "source": [
        "x_train.shape"
      ],
      "metadata": {
        "colab": {
          "base_uri": "https://localhost:8080/"
        },
        "id": "37Trespw8rNa",
        "outputId": "de943314-5321-4f8e-81bd-ee8880cc106a"
      },
      "execution_count": null,
      "outputs": [
        {
          "output_type": "execute_result",
          "data": {
            "text/plain": [
              "(60000, 28, 28, 1)"
            ]
          },
          "metadata": {},
          "execution_count": 7
        }
      ]
    },
    {
      "cell_type": "code",
      "source": [
        "# Building the Lenet Model Architecture\n",
        "model = Sequential()\n",
        "\n",
        "model.add(Conv2D(6, kernel_size=(5, 5), activation='relu', input_shape=(28, 28, 1)))\n",
        "\n",
        "model.add(MaxPooling2D(pool_size=(2, 2)))\n",
        "\n",
        "model.add(Conv2D(16, kernel_size=(5, 5), activation='relu'))\n",
        "\n",
        "model.add(MaxPooling2D(pool_size=(2, 2)))\n",
        "\n",
        "model.add(Flatten())\n",
        "model.add(Dense(120, activation='relu'))\n",
        "\n",
        "model.add(Dense(84, activation='relu'))\n",
        "\n",
        "model.add(Dense(10, activation='softmax'))"
      ],
      "metadata": {
        "id": "vZxZFdgk6pVI"
      },
      "execution_count": null,
      "outputs": []
    },
    {
      "cell_type": "code",
      "source": [
        "model.compile(loss=keras.metrics.categorical_crossentropy, optimizer=keras.optimizers.Adam(), metrics=['accuracy'])"
      ],
      "metadata": {
        "id": "e1kF00D46ron"
      },
      "execution_count": null,
      "outputs": []
    },
    {
      "cell_type": "code",
      "source": [
        "history = model.fit(x_train, y_train, batch_size=128, epochs=20, verbose=1, validation_data=(x_test, y_test))"
      ],
      "metadata": {
        "id": "IreeCaXG654O",
        "colab": {
          "base_uri": "https://localhost:8080/"
        },
        "outputId": "d890f063-f7e6-4442-fdee-163cf68f44d8"
      },
      "execution_count": null,
      "outputs": [
        {
          "output_type": "stream",
          "name": "stdout",
          "text": [
            "Epoch 1/20\n",
            "469/469 [==============================] - 37s 72ms/step - loss: 0.3322 - accuracy: 0.9029 - val_loss: 0.1054 - val_accuracy: 0.9687\n",
            "Epoch 2/20\n",
            "469/469 [==============================] - 26s 56ms/step - loss: 0.0913 - accuracy: 0.9720 - val_loss: 0.0631 - val_accuracy: 0.9801\n",
            "Epoch 3/20\n",
            "469/469 [==============================] - 27s 57ms/step - loss: 0.0645 - accuracy: 0.9797 - val_loss: 0.0480 - val_accuracy: 0.9837\n",
            "Epoch 4/20\n",
            "469/469 [==============================] - 29s 62ms/step - loss: 0.0515 - accuracy: 0.9837 - val_loss: 0.0463 - val_accuracy: 0.9855\n",
            "Epoch 5/20\n",
            "469/469 [==============================] - 27s 57ms/step - loss: 0.0429 - accuracy: 0.9868 - val_loss: 0.0492 - val_accuracy: 0.9843\n",
            "Epoch 6/20\n",
            "469/469 [==============================] - 27s 58ms/step - loss: 0.0355 - accuracy: 0.9888 - val_loss: 0.0376 - val_accuracy: 0.9890\n",
            "Epoch 7/20\n",
            "469/469 [==============================] - 26s 56ms/step - loss: 0.0309 - accuracy: 0.9904 - val_loss: 0.0351 - val_accuracy: 0.9886\n",
            "Epoch 8/20\n",
            "469/469 [==============================] - 26s 56ms/step - loss: 0.0269 - accuracy: 0.9912 - val_loss: 0.0322 - val_accuracy: 0.9898\n",
            "Epoch 9/20\n",
            "469/469 [==============================] - 27s 58ms/step - loss: 0.0254 - accuracy: 0.9917 - val_loss: 0.0385 - val_accuracy: 0.9879\n",
            "Epoch 10/20\n",
            "469/469 [==============================] - 26s 56ms/step - loss: 0.0220 - accuracy: 0.9931 - val_loss: 0.0344 - val_accuracy: 0.9892\n",
            "Epoch 11/20\n",
            "469/469 [==============================] - 31s 65ms/step - loss: 0.0181 - accuracy: 0.9943 - val_loss: 0.0318 - val_accuracy: 0.9902\n",
            "Epoch 12/20\n",
            "469/469 [==============================] - 26s 56ms/step - loss: 0.0173 - accuracy: 0.9945 - val_loss: 0.0328 - val_accuracy: 0.9908\n",
            "Epoch 13/20\n",
            "469/469 [==============================] - 27s 57ms/step - loss: 0.0160 - accuracy: 0.9946 - val_loss: 0.0318 - val_accuracy: 0.9886\n",
            "Epoch 14/20\n",
            "469/469 [==============================] - 31s 66ms/step - loss: 0.0138 - accuracy: 0.9955 - val_loss: 0.0392 - val_accuracy: 0.9881\n",
            "Epoch 15/20\n",
            "469/469 [==============================] - 26s 56ms/step - loss: 0.0117 - accuracy: 0.9962 - val_loss: 0.0499 - val_accuracy: 0.9867\n",
            "Epoch 16/20\n",
            "469/469 [==============================] - 26s 56ms/step - loss: 0.0125 - accuracy: 0.9957 - val_loss: 0.0405 - val_accuracy: 0.9891\n",
            "Epoch 17/20\n",
            "469/469 [==============================] - 26s 56ms/step - loss: 0.0126 - accuracy: 0.9956 - val_loss: 0.0382 - val_accuracy: 0.9899\n",
            "Epoch 18/20\n",
            "469/469 [==============================] - 26s 56ms/step - loss: 0.0097 - accuracy: 0.9967 - val_loss: 0.0369 - val_accuracy: 0.9884\n",
            "Epoch 19/20\n",
            "469/469 [==============================] - 28s 59ms/step - loss: 0.0102 - accuracy: 0.9966 - val_loss: 0.0402 - val_accuracy: 0.9890\n",
            "Epoch 20/20\n",
            "469/469 [==============================] - 26s 56ms/step - loss: 0.0073 - accuracy: 0.9977 - val_loss: 0.0337 - val_accuracy: 0.9910\n"
          ]
        }
      ]
    },
    {
      "cell_type": "code",
      "source": [
        "score = model.evaluate(x_test, y_test)\n",
        "print('Test Loss:', score[0])\n",
        "print('Test accuracy:', score[1]*100)"
      ],
      "metadata": {
        "id": "kF0y2WUs67pe",
        "colab": {
          "base_uri": "https://localhost:8080/"
        },
        "outputId": "c5f870f3-4299-4b47-a174-05420564ff88"
      },
      "execution_count": null,
      "outputs": [
        {
          "output_type": "stream",
          "name": "stdout",
          "text": [
            "313/313 [==============================] - 4s 12ms/step - loss: 0.0337 - accuracy: 0.9910\n",
            "Test Loss: 0.03371986374258995\n",
            "Test accuracy: 99.09999966621399\n"
          ]
        }
      ]
    },
    {
      "cell_type": "code",
      "source": [
        "import matplotlib.pyplot as plt"
      ],
      "metadata": {
        "id": "PexlSroB9Y1i"
      },
      "execution_count": null,
      "outputs": []
    },
    {
      "cell_type": "code",
      "source": [
        "# Plot the training and validation loss\n",
        "plt.figure(figsize=(8, 6))\n",
        "plt.plot(history.history['loss'], label='Training Loss')\n",
        "plt.plot(history.history['val_loss'], label='Validation Loss')\n",
        "plt.title('Loss Curve')\n",
        "plt.xlabel('Epochs')\n",
        "plt.ylabel('Loss')\n",
        "plt.legend()\n",
        "plt.show()"
      ],
      "metadata": {
        "id": "9qB9gzHd7zyS",
        "colab": {
          "base_uri": "https://localhost:8080/",
          "height": 564
        },
        "outputId": "af7588a1-e678-46e5-d4e5-4514db61693f"
      },
      "execution_count": null,
      "outputs": [
        {
          "output_type": "display_data",
          "data": {
            "text/plain": [
              "<Figure size 800x600 with 1 Axes>"
            ],
            "image/png": "[encoded data removed]"
          },
          "metadata": {}
        }
      ]
    },
    {
      "cell_type": "code",
      "source": [],
      "metadata": {
        "id": "J_nrrVh_pU1e"
      },
      "execution_count": null,
      "outputs": []
    },
    {
      "cell_type": "code",
      "source": [],
      "metadata": {
        "id": "y5HsSy3xGW-W"
      },
      "execution_count": null,
      "outputs": []
    },
    {
      "cell_type": "code",
      "source": [],
      "metadata": {
        "id": "lci_QJRXGW2k"
      },
      "execution_count": null,
      "outputs": []
    },
    {
      "cell_type": "code",
      "source": [],
      "metadata": {
        "id": "iX_HBkR6GWwS"
      },
      "execution_count": null,
      "outputs": []
    }
  ]
}