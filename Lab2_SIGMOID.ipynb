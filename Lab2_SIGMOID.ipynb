{
  "nbformat": 4,
  "nbformat_minor": 0,
  "metadata": {
    "colab": {
      "provenance": []
    },
    "kernelspec": {
      "name": "python3",
      "display_name": "Python 3"
    },
    "language_info": {
      "name": "python"
    }
  },
  "cells": [
    {
      "cell_type": "code",
      "execution_count": null,
      "metadata": {
        "id": "f2O7UBpXVlUQ"
      },
      "outputs": [],
      "source": [
        "#Apply sigmoid neuron to solve a real-world classification / regression problem"
      ]
    },
    {
      "cell_type": "code",
      "source": [
        "import numpy as np\n",
        "import pandas as pd\n",
        "import random\n",
        "from sklearn.datasets import load_breast_cancer\n",
        "from sklearn.model_selection import train_test_split\n",
        "from sklearn.preprocessing import StandardScaler\n",
        "from sklearn.metrics import accuracy_score"
      ],
      "metadata": {
        "id": "pkwzdQnzObcJ"
      },
      "execution_count": null,
      "outputs": []
    },
    {
      "cell_type": "code",
      "source": [
        "data = load_breast_cancer()\n",
        "X , Y = data.data , data.target"
      ],
      "metadata": {
        "id": "fGvPmvL5O-AQ"
      },
      "execution_count": null,
      "outputs": []
    },
    {
      "cell_type": "code",
      "source": [
        "X_train, X_test, y_train, y_test = train_test_split(X , Y, test_size=0.2, random_state=42)"
      ],
      "metadata": {
        "id": "O698yi_FOjMN"
      },
      "execution_count": null,
      "outputs": []
    },
    {
      "cell_type": "code",
      "source": [
        "# Standardize the features (important for sigmoid neurons)\n",
        "scaler = StandardScaler()\n",
        "X_train = scaler.fit_transform(X_train)\n",
        "X_test = scaler.transform(X_test)"
      ],
      "metadata": {
        "id": "4qAuEoXLPb6p"
      },
      "execution_count": null,
      "outputs": []
    },
    {
      "cell_type": "code",
      "source": [
        "# Sigmoid activation function\n",
        "def sigmoid(z):\n",
        "    return 1 / (1 + np.exp(-z))"
      ],
      "metadata": {
        "id": "NWHu7BP_WHZS"
      },
      "execution_count": null,
      "outputs": []
    },
    {
      "cell_type": "code",
      "source": [
        "#training function\n",
        "def train(X_train, y_train, learning_rate=0.01, epochs=1000):\n",
        "    n_features = X_train.shape[1]\n",
        "    weights = np.random.rand(n_features)\n",
        "    bias = np.random.rand()\n",
        "\n",
        "    for epoch in range(epochs):\n",
        "        z = np.dot(X_train, weights) + bias\n",
        "        y_pred = sigmoid(z)\n",
        "\n",
        "        error = y_train - y_pred\n",
        "        gradient_weights = np.dot(X_train.T, error)\n",
        "        gradient_bias = np.sum(error)\n",
        "\n",
        "        weights += learning_rate * gradient_weights\n",
        "        bias += learning_rate * gradient_bias\n",
        "\n",
        "    return weights, bias\n",
        "\n",
        "#Neuron prediction function\n",
        "def predict(X_test, weights, bias):\n",
        "    z = np.dot(X_test, weights) + bias\n",
        "    y_pred = sigmoid(z)\n",
        "    return np.round(y_pred)"
      ],
      "metadata": {
        "id": "17DL2PZfQDko"
      },
      "execution_count": null,
      "outputs": []
    },
    {
      "cell_type": "code",
      "source": [
        "# Train the sigmoid neuron\n",
        "weights, bias = train(X_train, y_train)\n",
        "\n",
        "# Make predictions on the test set\n",
        "y_pred = predict(X_test, weights, bias)\n",
        "\n",
        "# Calculate accuracy\n",
        "accuracy = accuracy_score(y_test, y_pred)\n",
        "print(\"Accuracy:\", accuracy)"
      ],
      "metadata": {
        "colab": {
          "base_uri": "https://localhost:8080/"
        },
        "id": "qwc-kGlCO3mW",
        "outputId": "7a8d1f50-ded4-4901-f917-e11526ccce29"
      },
      "execution_count": null,
      "outputs": [
        {
          "output_type": "stream",
          "name": "stdout",
          "text": [
            "Accuracy: 0.9736842105263158\n"
          ]
        }
      ]
    },
    {
      "cell_type": "code",
      "source": [],
      "metadata": {
        "id": "X0wHDg37Z8NO"
      },
      "execution_count": null,
      "outputs": []
    },
    {
      "cell_type": "code",
      "source": [],
      "metadata": {
        "id": "Hy0Bj-0efsSD"
      },
      "execution_count": null,
      "outputs": []
    }
  ]
}